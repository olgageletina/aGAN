{
 "cells": [
  {
   "cell_type": "code",
   "execution_count": 31,
   "metadata": {},
   "outputs": [],
   "source": [
    "%matplotlib inline\n",
    "\n",
    "import os\n",
    "import numpy as np\n",
    "import pandas as pd\n",
    "import tensorflow as tf\n",
    "import matplotlib.pyplot as plt\n",
    "from matplotlib.image import imread\n",
    "from scipy.misc import imresize, imsave"
   ]
  },
  {
   "cell_type": "markdown",
   "metadata": {},
   "source": [
    "# implementing a GAN to generate artwork that sells\n"
   ]
  },
  {
   "cell_type": "markdown",
   "metadata": {},
   "source": [
    "Reference tutorial and github repo:\n",
    "https://towardsdatascience.com/implementing-a-generative-adversarial-network-gan-dcgan-to-draw-human-faces-8291616904a\n",
    "https://github.com/FelixMohr/Deep-learning-with-Python/blob/master/DCGAN-face-creation.ipynb"
   ]
  },
  {
   "cell_type": "code",
   "execution_count": 5,
   "metadata": {},
   "outputs": [],
   "source": [
    "img_dir = 'imgs_sold/'"
   ]
  },
  {
   "cell_type": "code",
   "execution_count": 39,
   "metadata": {},
   "outputs": [],
   "source": [
    "filepaths = [img_dir+ f for f in os.listdir(img_dir)]"
   ]
  },
  {
   "cell_type": "code",
   "execution_count": 40,
   "metadata": {},
   "outputs": [
    {
     "name": "stderr",
     "output_type": "stream",
     "text": [
      "/usr/local/lib/python2.7/site-packages/ipykernel_launcher.py:3: DeprecationWarning: `imresize` is deprecated!\n",
      "`imresize` is deprecated in SciPy 1.0.0, and will be removed in 1.2.0.\n",
      "Use ``skimage.transform.resize`` instead.\n",
      "  This is separate from the ipykernel package so we can avoid doing imports until\n",
      "/usr/local/lib/python2.7/site-packages/ipykernel_launcher.py:5: DeprecationWarning: `imsave` is deprecated!\n",
      "`imsave` is deprecated in SciPy 1.0.0, and will be removed in 1.2.0.\n",
      "Use ``imageio.imwrite`` instead.\n",
      "  \"\"\"\n"
     ]
    }
   ],
   "source": [
    "for i, fp in enumerate(filepaths):\n",
    "    img = imread(fp) #/ 255.0\n",
    "    img = imresize(img, (40, 40))\n",
    "    try:\n",
    "        imsave('imgs_super_small' + \"/\" + str(fp).split('imgs_sold/')[1], img)\n",
    "    except:\n",
    "        pass"
   ]
  },
  {
   "cell_type": "code",
   "execution_count": 42,
   "metadata": {},
   "outputs": [],
   "source": [
    "filepaths_new = ['imgs_super_small/' + f for f in os.listdir(img_dir)]"
   ]
  },
  {
   "cell_type": "code",
   "execution_count": 55,
   "metadata": {},
   "outputs": [],
   "source": [
    "for fileName in filepaths_new:\n",
    "    if not fileName.endswith(\".jpg\"):\n",
    "        print('moo')"
   ]
  },
  {
   "cell_type": "code",
   "execution_count": 70,
   "metadata": {},
   "outputs": [],
   "source": [
    "def next_batch(num=32, data=filepaths_new):\n",
    "    idx = np.arange(0 , len(data))\n",
    "    np.random.shuffle(idx)\n",
    "    idx = idx[:num]\n",
    "    data_shuffle = [imread(data[i]) for i in idx]\n",
    "#     print(data_shuffle)\n",
    "    try:\n",
    "        return np.array(data_shuffle)\n",
    "    except:\n",
    "        pass\n",
    "\n",
    "#     shuffled = np.asarray(data_shuffle)\n",
    "    \n",
    "#     return np.array(data_shuffle)"
   ]
  },
  {
   "cell_type": "code",
   "execution_count": 44,
   "metadata": {},
   "outputs": [],
   "source": [
    "def montage(images):    \n",
    "    if isinstance(images, list):\n",
    "        images = np.array(images)\n",
    "    img_h = images.shape[1]\n",
    "    img_w = images.shape[2]\n",
    "    n_plots = int(np.ceil(np.sqrt(images.shape[0])))\n",
    "    if len(images.shape) == 4 and images.shape[3] == 3:\n",
    "        m = np.ones(\n",
    "            (images.shape[1] * n_plots + n_plots + 1,\n",
    "             images.shape[2] * n_plots + n_plots + 1, 3)) * 0.5\n",
    "    elif len(images.shape) == 4 and images.shape[3] == 1:\n",
    "        m = np.ones(\n",
    "            (images.shape[1] * n_plots + n_plots + 1,\n",
    "             images.shape[2] * n_plots + n_plots + 1, 1)) * 0.5\n",
    "    elif len(images.shape) == 3:\n",
    "        m = np.ones(\n",
    "            (images.shape[1] * n_plots + n_plots + 1,\n",
    "             images.shape[2] * n_plots + n_plots + 1)) * 0.5\n",
    "    else:\n",
    "        raise ValueError('Could not parse image shape of {}'.format(\n",
    "            images.shape))\n",
    "    for i in range(n_plots):\n",
    "        for j in range(n_plots):\n",
    "            this_filter = i * n_plots + j\n",
    "            if this_filter < images.shape[0]:\n",
    "                this_img = images[this_filter]\n",
    "                m[1 + i + i * img_h:1 + i + (i + 1) * img_h,\n",
    "                  1 + j + j * img_w:1 + j + (j + 1) * img_w] = this_img\n",
    "    return m"
   ]
  },
  {
   "cell_type": "code",
   "execution_count": 75,
   "metadata": {},
   "outputs": [],
   "source": [
    "tf.reset_default_graph()\n",
    "batch_size = 32\n",
    "n_noise = 32\n",
    "\n",
    "X_in = tf.placeholder(dtype=tf.float32, shape=[None, 40, 40, 3], name='X')\n",
    "noise = tf.placeholder(dtype=tf.float32, shape=[None, n_noise])\n",
    "\n",
    "keep_prob = tf.placeholder(dtype=tf.float32, name='keep_prob')\n",
    "is_training = tf.placeholder(dtype=tf.bool, name='is_training')\n",
    "\n",
    "def lrelu(x):\n",
    "    return tf.maximum(x, tf.multiply(x, 0.2))\n",
    "\n",
    "def binary_cross_entropy(x, z):\n",
    "    eps = 1e-12\n",
    "    return (-(x * tf.log(z + eps) + (1. - x) * tf.log(1. - z + eps)))\n",
    "\n",
    "def discriminator(img_in, reuse=None, keep_prob=keep_prob):\n",
    "    activation = lrelu\n",
    "    with tf.variable_scope(\"discriminator\", reuse=reuse):\n",
    "        x = tf.reshape(img_in, shape=[-1, 40, 40, 3])\n",
    "        x = tf.layers.conv2d(x, kernel_size=5, filters=256, strides=2, padding='same', activation=activation)\n",
    "        x = tf.layers.dropout(x, keep_prob)\n",
    "        x = tf.layers.conv2d(x, kernel_size=5, filters=128, strides=1, padding='same', activation=activation)\n",
    "        x = tf.layers.dropout(x, keep_prob)\n",
    "        x = tf.layers.conv2d(x, kernel_size=5, filters=64, strides=1, padding='same', activation=activation)\n",
    "        x = tf.layers.dropout(x, keep_prob)\n",
    "        x = tf.contrib.layers.flatten(x)\n",
    "        x = tf.layers.dense(x, units=128, activation=activation)\n",
    "        x = tf.layers.dense(x, units=1, activation=tf.nn.sigmoid)\n",
    "        return x\n",
    "    \n",
    "def generator(z, keep_prob=keep_prob, is_training=is_training):\n",
    "    activation = lrelu\n",
    "    momentum = 0.9\n",
    "    with tf.variable_scope(\"generator\", reuse=None):\n",
    "        x = z\n",
    "        \n",
    "        d1 = 4#3\n",
    "        d2 = 3\n",
    "        \n",
    "        x = tf.layers.dense(x, units=d1 * d1 * d2, activation=activation)\n",
    "        x = tf.layers.dropout(x, keep_prob)      \n",
    "        x = tf.contrib.layers.batch_norm(x, is_training=is_training, decay=momentum)  \n",
    "        \n",
    "        x = tf.reshape(x, shape=[-1, d1, d1, d2])\n",
    "        x = tf.image.resize_images(x, size=[10, 10])\n",
    "        \n",
    "        \n",
    "        \n",
    "        x = tf.layers.conv2d_transpose(x, kernel_size=5, filters=256, strides=2, padding='same', activation=activation)\n",
    "        x = tf.layers.dropout(x, keep_prob)\n",
    "        x = tf.contrib.layers.batch_norm(x, is_training=is_training, decay=momentum)\n",
    "        x = tf.layers.conv2d_transpose(x, kernel_size=5, filters=128, strides=2, padding='same', activation=activation)\n",
    "        x = tf.layers.dropout(x, keep_prob)\n",
    "        x = tf.contrib.layers.batch_norm(x, is_training=is_training, decay=momentum)\n",
    "        x = tf.layers.conv2d_transpose(x, kernel_size=5, filters=64, strides=1, padding='same', activation=activation)\n",
    "        x = tf.layers.dropout(x, keep_prob)\n",
    "        x = tf.contrib.layers.batch_norm(x, is_training=is_training, decay=momentum)\n",
    "        x = tf.layers.conv2d_transpose(x, kernel_size=5, filters=3, strides=1, padding='same', activation=tf.nn.sigmoid)\n",
    "        return x"
   ]
  },
  {
   "cell_type": "code",
   "execution_count": 51,
   "metadata": {},
   "outputs": [
    {
     "name": "stdout",
     "output_type": "stream",
     "text": [
      "Tensor(\"generator/conv2d_transpose_3/Sigmoid:0\", shape=(?, 40, 40, 3), dtype=float32)\n"
     ]
    }
   ],
   "source": [
    "g = generator(noise, keep_prob, is_training)\n",
    "print(g)\n",
    "d_real = discriminator(X_in)\n",
    "d_fake = discriminator(g, reuse=True)\n",
    "\n",
    "vars_g = [var for var in tf.trainable_variables() if var.name.startswith(\"generator\")]\n",
    "vars_d = [var for var in tf.trainable_variables() if var.name.startswith(\"discriminator\")]\n",
    "\n",
    "\n",
    "d_reg = tf.contrib.layers.apply_regularization(tf.contrib.layers.l2_regularizer(1e-6), vars_d)\n",
    "g_reg = tf.contrib.layers.apply_regularization(tf.contrib.layers.l2_regularizer(1e-6), vars_g)\n",
    "\n",
    "loss_d_real = binary_cross_entropy(tf.ones_like(d_real), d_real)\n",
    "loss_d_fake = binary_cross_entropy(tf.zeros_like(d_fake), d_fake)\n",
    "loss_g = tf.reduce_mean(binary_cross_entropy(tf.ones_like(d_fake), d_fake))\n",
    "\n",
    "loss_d = tf.reduce_mean(0.5 * (loss_d_real + loss_d_fake))\n",
    "\n",
    "update_ops = tf.get_collection(tf.GraphKeys.UPDATE_OPS)\n",
    "with tf.control_dependencies(update_ops):\n",
    "    optimizer_d = tf.train.RMSPropOptimizer(learning_rate=0.0001).minimize(loss_d + d_reg, var_list=vars_d)\n",
    "    optimizer_g = tf.train.RMSPropOptimizer(learning_rate=0.0002).minimize(loss_g + g_reg, var_list=vars_g)\n",
    "sess = tf.Session()\n",
    "sess.run(tf.global_variables_initializer())"
   ]
  },
  {
   "cell_type": "code",
   "execution_count": 78,
   "metadata": {},
   "outputs": [
    {
     "ename": "TypeError",
     "evalue": "Cannot interpret feed_dict key as Tensor: Tensor Tensor(\"X:0\", shape=(?, 40, 40, 3), dtype=float32) is not an element of this graph.",
     "output_type": "error",
     "traceback": [
      "\u001b[0;31m---------------------------------------------------------------------------\u001b[0m",
      "\u001b[0;31mTypeError\u001b[0m                                 Traceback (most recent call last)",
      "\u001b[0;32m<ipython-input-78-c3f5d06bcb19>\u001b[0m in \u001b[0;36m<module>\u001b[0;34m()\u001b[0m\n\u001b[1;32m     12\u001b[0m         \u001b[0mbatch\u001b[0m \u001b[0;34m=\u001b[0m \u001b[0;34m[\u001b[0m\u001b[0mb\u001b[0m \u001b[0;32mfor\u001b[0m \u001b[0mb\u001b[0m \u001b[0;32min\u001b[0m \u001b[0mnext_batch\u001b[0m\u001b[0;34m(\u001b[0m\u001b[0mnum\u001b[0m\u001b[0;34m=\u001b[0m\u001b[0mbatch_size\u001b[0m\u001b[0;34m)\u001b[0m\u001b[0;34m]\u001b[0m\u001b[0;34m\u001b[0m\u001b[0m\n\u001b[1;32m     13\u001b[0m \u001b[0;34m\u001b[0m\u001b[0m\n\u001b[0;32m---> 14\u001b[0;31m         \u001b[0md_real_ls\u001b[0m\u001b[0;34m,\u001b[0m \u001b[0md_fake_ls\u001b[0m\u001b[0;34m,\u001b[0m \u001b[0mg_ls\u001b[0m\u001b[0;34m,\u001b[0m \u001b[0md_ls\u001b[0m \u001b[0;34m=\u001b[0m \u001b[0msess\u001b[0m\u001b[0;34m.\u001b[0m\u001b[0mrun\u001b[0m\u001b[0;34m(\u001b[0m\u001b[0;34m[\u001b[0m\u001b[0mloss_d_real\u001b[0m\u001b[0;34m,\u001b[0m \u001b[0mloss_d_fake\u001b[0m\u001b[0;34m,\u001b[0m \u001b[0mloss_g\u001b[0m\u001b[0;34m,\u001b[0m \u001b[0mloss_d\u001b[0m\u001b[0;34m]\u001b[0m\u001b[0;34m,\u001b[0m \u001b[0mfeed_dict\u001b[0m\u001b[0;34m=\u001b[0m\u001b[0;34m{\u001b[0m\u001b[0mX_in\u001b[0m\u001b[0;34m:\u001b[0m \u001b[0mbatch\u001b[0m\u001b[0;34m,\u001b[0m \u001b[0mnoise\u001b[0m\u001b[0;34m:\u001b[0m \u001b[0mn\u001b[0m\u001b[0;34m,\u001b[0m \u001b[0mkeep_prob\u001b[0m\u001b[0;34m:\u001b[0m \u001b[0mkeep_prob_train\u001b[0m\u001b[0;34m,\u001b[0m \u001b[0mis_training\u001b[0m\u001b[0;34m:\u001b[0m\u001b[0mTrue\u001b[0m\u001b[0;34m}\u001b[0m\u001b[0;34m)\u001b[0m\u001b[0;34m\u001b[0m\u001b[0m\n\u001b[0m\u001b[1;32m     15\u001b[0m \u001b[0;34m\u001b[0m\u001b[0m\n\u001b[1;32m     16\u001b[0m         \u001b[0md_fake_ls_init\u001b[0m \u001b[0;34m=\u001b[0m \u001b[0md_fake_ls\u001b[0m\u001b[0;34m\u001b[0m\u001b[0m\n",
      "\u001b[0;32m/usr/local/lib/python2.7/site-packages/tensorflow/python/client/session.pyc\u001b[0m in \u001b[0;36mrun\u001b[0;34m(self, fetches, feed_dict, options, run_metadata)\u001b[0m\n\u001b[1;32m    927\u001b[0m     \u001b[0;32mtry\u001b[0m\u001b[0;34m:\u001b[0m\u001b[0;34m\u001b[0m\u001b[0m\n\u001b[1;32m    928\u001b[0m       result = self._run(None, fetches, feed_dict, options_ptr,\n\u001b[0;32m--> 929\u001b[0;31m                          run_metadata_ptr)\n\u001b[0m\u001b[1;32m    930\u001b[0m       \u001b[0;32mif\u001b[0m \u001b[0mrun_metadata\u001b[0m\u001b[0;34m:\u001b[0m\u001b[0;34m\u001b[0m\u001b[0m\n\u001b[1;32m    931\u001b[0m         \u001b[0mproto_data\u001b[0m \u001b[0;34m=\u001b[0m \u001b[0mtf_session\u001b[0m\u001b[0;34m.\u001b[0m\u001b[0mTF_GetBuffer\u001b[0m\u001b[0;34m(\u001b[0m\u001b[0mrun_metadata_ptr\u001b[0m\u001b[0;34m)\u001b[0m\u001b[0;34m\u001b[0m\u001b[0m\n",
      "\u001b[0;32m/usr/local/lib/python2.7/site-packages/tensorflow/python/client/session.pyc\u001b[0m in \u001b[0;36m_run\u001b[0;34m(self, handle, fetches, feed_dict, options, run_metadata)\u001b[0m\n\u001b[1;32m   1093\u001b[0m           \u001b[0;32mexcept\u001b[0m \u001b[0mException\u001b[0m \u001b[0;32mas\u001b[0m \u001b[0me\u001b[0m\u001b[0;34m:\u001b[0m\u001b[0;34m\u001b[0m\u001b[0m\n\u001b[1;32m   1094\u001b[0m             raise TypeError(\n\u001b[0;32m-> 1095\u001b[0;31m                 'Cannot interpret feed_dict key as Tensor: ' + e.args[0])\n\u001b[0m\u001b[1;32m   1096\u001b[0m \u001b[0;34m\u001b[0m\u001b[0m\n\u001b[1;32m   1097\u001b[0m           \u001b[0;32mif\u001b[0m \u001b[0misinstance\u001b[0m\u001b[0;34m(\u001b[0m\u001b[0msubfeed_val\u001b[0m\u001b[0;34m,\u001b[0m \u001b[0mops\u001b[0m\u001b[0;34m.\u001b[0m\u001b[0mTensor\u001b[0m\u001b[0;34m)\u001b[0m\u001b[0;34m:\u001b[0m\u001b[0;34m\u001b[0m\u001b[0m\n",
      "\u001b[0;31mTypeError\u001b[0m: Cannot interpret feed_dict key as Tensor: Tensor Tensor(\"X:0\", shape=(?, 40, 40, 3), dtype=float32) is not an element of this graph."
     ]
    }
   ],
   "source": [
    "for i in range(60):\n",
    "    train_d = True\n",
    "    train_g = True\n",
    "    keep_prob_train = 0.6 # 0.5\n",
    "    \n",
    "    \n",
    "    n = np.random.uniform(0.0, 1.0, [batch_size, n_noise]).astype(np.float32)\n",
    "    \n",
    "#     try:\n",
    "#     print(batch)\n",
    "    if next_batch(num=batch_size) is not None:\n",
    "        batch = [b for b in next_batch(num=batch_size)]  \n",
    "\n",
    "        d_real_ls, d_fake_ls, g_ls, d_ls = sess.run([loss_d_real, loss_d_fake, loss_g, loss_d], feed_dict={X_in: batch, noise: n, keep_prob: keep_prob_train, is_training:True})\n",
    "\n",
    "        d_fake_ls_init = d_fake_ls\n",
    "\n",
    "        d_real_ls = np.mean(d_real_ls)\n",
    "        d_fake_ls = np.mean(d_fake_ls)\n",
    "        g_ls = g_ls\n",
    "        d_ls = d_ls\n",
    "\n",
    "        if g_ls * 1.35 < d_ls:\n",
    "            train_g = False\n",
    "            pass\n",
    "        if d_ls * 1.35 < g_ls:\n",
    "            train_d = False\n",
    "            pass\n",
    "\n",
    "        if train_d:\n",
    "            sess.run(optimizer_d, feed_dict={noise: n, X_in: batch, keep_prob: keep_prob_train, is_training:True})\n",
    "\n",
    "\n",
    "        if train_g:\n",
    "            sess.run(optimizer_g, feed_dict={noise: n, keep_prob: keep_prob_train, is_training:True})\n",
    "\n",
    "\n",
    "        if not i % 10:\n",
    "            print (i, d_ls, g_ls)\n",
    "            if not train_g:\n",
    "                print(\"not training generator\")\n",
    "            if not train_d:\n",
    "                print(\"not training discriminator\")\n",
    "            gen_imgs = sess.run(g, feed_dict = {noise: n, keep_prob: 1.0, is_training:False})\n",
    "            imgs = [img[:,:,:] for img in gen_imgs]\n",
    "            m = montage(imgs)\n",
    "            #m = imgs[0]\n",
    "            plt.axis('off')\n",
    "            plt.imshow(m, cmap='gray')\n",
    "            plt.show()\n",
    "    #     except:\n",
    "    #         pass"
   ]
  },
  {
   "cell_type": "code",
   "execution_count": null,
   "metadata": {},
   "outputs": [],
   "source": []
  }
 ],
 "metadata": {
  "kernelspec": {
   "display_name": "Python 2",
   "language": "python",
   "name": "python2"
  },
  "language_info": {
   "codemirror_mode": {
    "name": "ipython",
    "version": 2
   },
   "file_extension": ".py",
   "mimetype": "text/x-python",
   "name": "python",
   "nbconvert_exporter": "python",
   "pygments_lexer": "ipython2",
   "version": "2.7.12"
  }
 },
 "nbformat": 4,
 "nbformat_minor": 2
}
